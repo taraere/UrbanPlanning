{
 "cells": [
  {
   "cell_type": "raw",
   "metadata": {
    "slideshow": {
     "slide_type": "skip"
    }
   },
   "source": [
    "# from notebook.services.config import ConfigManager\n",
    "cm = ConfigManager()\n",
    "\n",
    "cm.update('livereveal', {\n",
    "              'width': 1000,\n",
    "              'height': 600,\n",
    "              'scroll': True,\n",
    "})"
   ]
  },
  {
   "cell_type": "markdown",
   "metadata": {
    "slideshow": {
     "slide_type": "slide"
    }
   },
   "source": [
    "<h1> Architects at Amstelhaege</h1>\n",
    "\n",
    "<h2> Applying algorithms to urban planning problems </h2>\n",
    "<h4> By Jos Feenstra, Tara Elsen, and Christian Wewer</h4>"
   ]
  },
  {
   "cell_type": "markdown",
   "metadata": {
    "slideshow": {
     "slide_type": "slide"
    }
   },
   "source": [
    "# Content Layout\n",
    "- Case problem  \n",
    "- Visualisations  \n",
    "- Approach  \n",
    "- Current Code and Data, Structure  "
   ]
  },
  {
   "cell_type": "markdown",
   "metadata": {
    "slideshow": {
     "slide_type": "slide"
    }
   },
   "source": [
    "## The Case Problem\n",
    "\n",
    "* Fill an area of 160m x 180m\n",
    "```\n",
    "    AREA = (160, 180)\n",
    "   ```"
   ]
  },
  {
   "cell_type": "markdown",
   "metadata": {
    "slideshow": {
     "slide_type": "fragment"
    }
   },
   "source": [
    "* Fill a residential area with 20, 40, or 60 houses\n",
    "```\n",
    "    HOUSE_COUNT = [20, 40, 60]\n",
    "   ``` \n"
   ]
  },
  {
   "cell_type": "markdown",
   "metadata": {
    "slideshow": {
     "slide_type": "fragment"
    }
   },
   "source": [
    "* 3 types of houses of varying sizes and pricing/ value\n",
    "\n",
    "--------------------------------------------------\n",
    "NAMES | Family  |  Bungalow   |  Mansion   |\n",
    "------|------------------------------------\n",
    "Site  |  (8, 8) |    (10, 7.5)|  (11, 10.5)|\n",
    "Value |  285000 |    399000   |  610000    |\n"
   ]
  },
  {
   "cell_type": "markdown",
   "metadata": {
    "slideshow": {
     "slide_type": "fragment"
    }
   },
   "source": [
    "* Increase in investment with increased \"personal space\" for homes - adding rings of space to the base perimeter around houses\n",
    "```\n",
    "BASE_RING      = [2,    3,    6,   ]\n",
    "RING_INCREMENT = [0.03, 0.04, 0.06 ]\n",
    "```"
   ]
  },
  {
   "cell_type": "markdown",
   "metadata": {
    "slideshow": {
     "slide_type": "slide"
    }
   },
   "source": [
    "# Visualisations\n",
    "----\n",
    "##### First we approached the problem by using Rhino, used on real-life urban development projects \n",
    "----\n",
    "\n",
    "\n",
    "<center><img src=\"images/1.jpg\"><center>"
   ]
  },
  {
   "cell_type": "markdown",
   "metadata": {
    "slideshow": {
     "slide_type": "subslide"
    }
   },
   "source": [
    "##### They were constructed to scale and placed on a map of the accurate size\n",
    "\n",
    "----\n",
    "\n",
    "\n",
    "\n",
    "<center><img src=\"images/3.jpg\"></center>"
   ]
  },
  {
   "cell_type": "code",
   "execution_count": null,
   "metadata": {
    "collapsed": true,
    "slideshow": {
     "slide_type": "skip"
    }
   },
   "outputs": [],
   "source": [
    "from pylab import *"
   ]
  },
  {
   "cell_type": "markdown",
   "metadata": {
    "slideshow": {
     "slide_type": "slide"
    }
   },
   "source": [
    "## Algorithmic Approach\n",
    "\n",
    "- Depth first instead of breadth first\n",
    "\n",
    "- Consider the rings\n",
    "\n",
    "<left><img src=\"images/knip2.png\" size=\"small\"></left>\n",
    "<right><img src=\"images/knip3.png\" size=\"small\"></right>\n"
   ]
  },
  {
   "cell_type": "markdown",
   "metadata": {
    "slideshow": {
     "slide_type": "subslide"
    }
   },
   "source": [
    "- The amount of branches is enormous:\n",
    "\n",
    "\n",
    "$$160 \\times 180 \\times 80 \\times 3 \\approx 7 \\times 10^6$$\n",
    "\n",
    "\n",
    "- How to select and prune\n",
    "\n",
    "- And Backtracking\n",
    "     - Kakuro example <img src=\"http://www.printablesudokupuzzles.net/images/kakuro-10-6-m.gif\"></img>"
   ]
  },
  {
   "cell_type": "code",
   "execution_count": null,
   "metadata": {
    "collapsed": true,
    "slideshow": {
     "slide_type": "skip"
    }
   },
   "outputs": [],
   "source": [
    "from pylab import * \n",
    "import matplotlib.pyplot as plt\n",
    "from matplotlib.patches import Rectangle as mathplot_rectangle\n",
    "import numpy as np\n",
    "from random import randint, shuffle\n",
    "\n",
    "# constances general\n",
    "AREA = (160, 180)\n",
    "HOUSE_COUNT = [20, 40, 60]\n",
    "\n",
    "# water (ignored for now)\n",
    "WATER_PERCENTAGE = 0.20         # percentage of total area covered by water\n",
    "MAX_BODIES       = 4            # maximum number of bodies\n",
    "MAX_RATIO        = 4            # l/b < x AND  b/l < x\n",
    "\n",
    "# house constances\n",
    "NAME           = [\"Family\",  \"Bungalow\", \"Mansion\"  ]\n",
    "FREQUENCY      = [0.60,      0.25,       0.15       ]\n",
    "VALUE          = [285000,    399000,     610000     ]\n",
    "SITE           = [(8, 8),    (10, 7.5),  (11, 10.5 )]\n",
    "BASE_RING      = [2,         3,          6,         ]\n",
    "RING_INCREMENT = [0.03,      0.04,       0.06       ]\n",
    "COLOUR         = [\"r\",       'g',        'y'        ]\n",
    "\n",
    "################################################################################\n",
    "\"\"\"\n",
    "Housetype Class\n",
    "\"\"\"\n",
    "class HouseType:\n",
    "\n",
    "    def __init__(self, aName, aFrequency, aValue, aSite, aBaseRing, aRingIncrement, MaxRingIt, aColour):\n",
    "\n",
    "        # base values\n",
    "        self.name      = aName\n",
    "        self.frequency = aFrequency\n",
    "        self.value     = aValue\n",
    "        self.site      = aSite\n",
    "        self.baseRing  = aBaseRing\n",
    "        self.ringInc   = aRingIncrement\n",
    "        self.colour    = aColour\n",
    "\n",
    "        # calculated values\n",
    "        self.width     = self.site[0]\n",
    "        self.height    = self.site[1]\n",
    "        self.area      = self.width * self.height\n",
    "        self.landValue = self.value / self.area\n",
    "        self.ringValue = round(self.ringInc * self.value)\n",
    "\n",
    "        # do not calculate rings if the basering is incorrect\n",
    "        if self.baseRing - 1 < 0:\n",
    "            raise print(\"ERROR: Ring Creation Error\")\n",
    "\n",
    "        # instanciate cummulative variables\n",
    "        cumArea        = self.area\n",
    "        cumValue       = self.value\n",
    "        cumLandValue   = self.landValue\n",
    "\n",
    "        # make array of rings and their weighted values\n",
    "        class Ring:\n",
    "            pass\n",
    "        self.ring = list()\n",
    "\n",
    "        # fill ring list with Ring objects\n",
    "        # TODO rewrite so that ringwidth and ring.width is less confusing\n",
    "\n",
    "        for ringWidth in range(self.baseRing, MaxRingIt):\n",
    "\n",
    "            # turn r into Ring object\n",
    "            r = Ring()\n",
    "\n",
    "            # calc land value in € / m2, and calc other attributes\n",
    "            r.ringWidth = ringWidth                  # synoniem\n",
    "            r.x = ringWidth * 2 + self.width\n",
    "            r.y = ringWidth * 2 + self.height\n",
    "            r.area = r.x * r.y - cumArea\n",
    "\n",
    "            # the first ring is part of the house, so it yields no value\n",
    "            r.value = 0\n",
    "            if ringWidth != self.baseRing:\n",
    "                r.value = self.ringValue\n",
    "            r.landValue = round(r.value / r.area, 1)\n",
    "\n",
    "            # increase the cummilative values, and add the current values to r\n",
    "            cumArea += r.area\n",
    "            r.cumArea = cumArea\n",
    "\n",
    "            cumValue += r.value\n",
    "            r.cumValue = cumValue\n",
    "\n",
    "            cumLandValue = round(cumValue / cumArea)\n",
    "            r.cumLandValue = cumLandValue\n",
    "\n",
    "            # add Ring object r to list ring\n",
    "            self.ring.append(r)\n",
    "\n",
    "    def printRingInfo(self):\n",
    "        print()\n",
    "        print(self.name)\n",
    "        printstr = \"| ring: {:2}   x: {:2}   y: {:3}   area: {:5}  landValue: {:5}  cumArea: {:6}  cumValue: {:7}   cumLandValue: {:5} |\"\n",
    "        print((len(printstr) - 4) * \"-\")\n",
    "        for r in self.ring:\n",
    "            print(printstr.format(r.ringWidth, r.x, r.y, r.area, r.landValue, r.cumArea, r.cumValue, r.cumLandValue ))\n",
    "        print((len(printstr) - 4) * \"-\")\n",
    "\n",
    "################################################################################\n",
    "\"\"\"\n",
    "House Class\n",
    "\"\"\"\n",
    "class House:\n",
    "\n",
    "    def __init__(self, aType, aCoord, addRings):\n",
    "        self.type = aType\n",
    "        self.origin = aCoord\n",
    "        self.additionalRings = addRings\n",
    "        self.update()\n",
    "\n",
    "    def update(self):\n",
    "        # calculate additional geometric information, based on init's current value\n",
    "            # EXAMPLE a fam.house with 3 add.rings gives a ringWidth of 5.\n",
    "\n",
    "        # select current ring\n",
    "        self.ring = self.type.ring[self.additionalRings]\n",
    "\n",
    "        # house geometry rep. boundary\n",
    "        self.boundary = Rectangle(self.origin, self.type.width, self.type.height, fc=self.type.colour)\n",
    "\n",
    "        # move houseOrigin diagonal to create ringOrigin\n",
    "        vector = (-1 * self.ring.ringWidth, -1 * self.ring.ringWidth)\n",
    "        ringOrigin = moveCoord(self.origin, vector)\n",
    "\n",
    "        # house ring rep. boundary\n",
    "        self.ringboundary =  Rectangle(ringOrigin, self.ring.x, self.ring.y, fc=self.type.colour, alpha=0.2)\n",
    "\n",
    "        # make some synonimes for lazy use\n",
    "        self.coord = self.origin\n",
    "\n",
    "    def move(self, vector):\n",
    "\n",
    "        # add vector and origin coordinate, and update other values accordingly\n",
    "        self.origin = moveCoord(self.origin, vector)\n",
    "        self.update()\n",
    "\n",
    "    def moveTo(self, newCoord):\n",
    "\n",
    "        # replace origin coordinate, and update other values accordingly\n",
    "        self.origin = newCoord\n",
    "        self.update()\n",
    "\n",
    "###############################################################################\n",
    "\n",
    "\"\"\"\n",
    "square class\n",
    "\"\"\"\n",
    "class Rectangle:\n",
    "\n",
    "    def __init__(self, OriginCoord, width, height, **kwargs):\n",
    "\n",
    "        self.width = width\n",
    "        self.height = height\n",
    "\n",
    "        self.x1 = OriginCoord[0]\n",
    "        self.y1 = OriginCoord[1]\n",
    "        self.coord1 = (self.x1, self.y1)\n",
    "\n",
    "        self.x2 = self.x1 + width\n",
    "        self.y2 = self.y1 + height\n",
    "        self.coord2 = (self.x2, self.y2)\n",
    "\n",
    "        # embed mathplot object in this object\n",
    "        self.mathplot = mathplot_rectangle(self.coord1, width, height, 0, **kwargs)\n",
    "\n",
    "    def printAll(self):\n",
    "        print(\"Rectangle.coord1: {} \\n\"\n",
    "              \"Rectangle.coord2: {} \\n\".format(\n",
    "               self.coord1,\n",
    "               self.coord2)\n",
    "             )\n",
    "\n",
    "    # TODO make method of comparissons:\n",
    "\n",
    "    def isTouching(self, obj2):\n",
    "\n",
    "        # find out if object is coordinate or square\n",
    "        checkCoords = []\n",
    "        if isinstance(obj2, Rectangle):\n",
    "            print(\"its an rectangle\")\n",
    "\n",
    "            [checkCoords.append((x, y)) for x in obj2.coord1 for y in obj2.coord2]\n",
    "            print(checkCoords)\n",
    "\n",
    "        elif isinstance(obj2, tuple):\n",
    "            print(\"its an coord\")\n",
    "            checkCoords.append(obj2)\n",
    "        else:\n",
    "            print(\"ERROR: secondObject is not of valid type\")\n",
    "\n",
    "        for checkCoord in checkCoords:\n",
    "            print(checkCoord)\n",
    "        # return True / False\n",
    "\n",
    "###############################################################################\n",
    "\n",
    "\"\"\"\n",
    "Map class which holds houses and has a method of printing them\n",
    "\n",
    "METHODS AND THEIR USE:\n",
    "self.addHouse(type, coord, rings)\n",
    "self.plot()\n",
    "\"\"\"\n",
    "class Map:\n",
    "\n",
    "    def __init__(self, coord1=(0,0), coord2=AREA):\n",
    "        self.coord1 = coord1\n",
    "        self.coord2 = coord2\n",
    "        self.width  = coord2[0] - coord1[0]\n",
    "        self.height = coord2[1] - coord1[1]\n",
    "\n",
    "        # init houselist\n",
    "        self.house = []\n",
    "\n",
    "        # init a boundary for collision testing\n",
    "        self.boundary = Rectangle(self.coord1, self.width, self.height)\n",
    "\n",
    "\n",
    "    \"\"\"\n",
    "    add a [aType] house to the map at [aCoord], with [addrings] rings\n",
    "    \"\"\"\n",
    "    def addHouse(self, aType, aCoord, addRings):\n",
    "\n",
    "        self.house.append(House(aType, aCoord, addRings))\n",
    "\n",
    "    def removeLastHouse(self):\n",
    "        self.house.pop()\n",
    "\n",
    "    \"\"\"\n",
    "    plot the full map with all houses. This code is hard to understand\n",
    "    without understanding the mathplot.py libaries\n",
    "    \"\"\"\n",
    "    def plot(self):\n",
    "\n",
    "        # init figure and axes\n",
    "        fig = plt.figure()\n",
    "        ax = fig.add_subplot(111, aspect='equal')\n",
    "\n",
    "        # get rectangle information out of houses\n",
    "        houseBound_list = []\n",
    "        ringBound_list  = []\n",
    "        for house in self.house:\n",
    "            ax.add_patch(house.boundary.mathplot)\n",
    "            ax.add_patch(house.ringboundary.mathplot)\n",
    "\n",
    "        # EXAMPLE FOR PROPERTIES\n",
    "        # rect = patches.Rectangle((50,100),40,30,linewidth=1,edgecolor='r',facecolor='none')\n",
    "\n",
    "        # determines how axis are drawn\n",
    "        ax.set_xticks(np.arange(0, self.width, 10))\n",
    "        ax.set_yticks(np.arange(0, self.height, 10))\n",
    "        ax.set_xlim([0, self.width])\n",
    "        ax.set_ylim([0, self.height])\n",
    "\n",
    "        # draw the board\n",
    "        plt.show()\n",
    "\n",
    "\n",
    "###############################################################################\n",
    "\"\"\"\n",
    "This area is for functions with are no part of classes\n",
    "\"\"\"\n",
    "\n",
    "\n",
    "\"\"\"\n",
    "instantiate the 3 housetype objects\n",
    "\"\"\"\n",
    "def initHouseTypes(IterationMax=20):\n",
    "    # determines how many rings will be added and calculated\n",
    "    maximumRingIterations = IterationMax\n",
    "\n",
    "    # make a list of House objects\n",
    "    houseTypeList = list()\n",
    "    for i,s in enumerate(NAME):\n",
    "        houseTypeList.append(\n",
    "            HouseType(NAME[i], FREQUENCY[i], VALUE[i], SITE[i], BASE_RING[i],\n",
    "                RING_INCREMENT[i], maximumRingIterations, COLOUR[i])\n",
    "        )\n",
    "    return houseTypeList\n",
    "\n",
    "\n",
    "\n",
    "\"\"\"\n",
    "add a coordinate and a vector (movement representative) together\n",
    "- make a coordinate class/?????\n",
    "\"\"\"\n",
    "def moveCoord(coordinate, vector):\n",
    "    return tuple(sum(x) for x in zip(coordinate, vector))\n"
   ]
  },
  {
   "cell_type": "code",
   "execution_count": null,
   "metadata": {
    "collapsed": true,
    "slideshow": {
     "slide_type": "slide"
    }
   },
   "outputs": [],
   "source": [
    "SELECTED_HOUSE_COUNT = HOUSE_COUNT[2]\n",
    "\n",
    "\"\"\"\n",
    "build a hardcoded sollution\n",
    "\"\"\"\n",
    "def main():\n",
    "    ht = initHouseTypes(20)\n",
    "\n",
    "    # example house object values\n",
    "    hType = [ht[0], ht[2], ht[0], ht[1], ht[2], ht[0], ht[2], ht[0], ht[1], ht[2]]\n",
    "    coordinate = [(50, 50), (64, 21), (54, 50), (84, 97), (12, 23), (45, 56), (100, 100), (30, 30), (200, 54)]\n",
    "    ringsToAdd = [3, 3, 6, 4, 7, 8, 9, 3, 0, 0]\n",
    "\n",
    "    # make a map\n",
    "    map1 = Map()\n",
    "\n",
    "    # fill the map\n",
    "    for i in range(9):\n",
    "        map1.addHouse(hType[i], coordinate[i], ringsToAdd[i])\n",
    "\n",
    "\n",
    "    # draw the map\n",
    "    map1.plot()\n",
    "\n",
    "if __name__==\"__main__\":\n",
    "    main()\n"
   ]
  },
  {
   "cell_type": "code",
   "execution_count": null,
   "metadata": {
    "collapsed": true,
    "slideshow": {
     "slide_type": "skip"
    }
   },
   "outputs": [],
   "source": []
  },
  {
   "cell_type": "code",
   "execution_count": null,
   "metadata": {
    "collapsed": true,
    "slideshow": {
     "slide_type": "slide"
    }
   },
   "outputs": [],
   "source": [
    "\"\"\"\n",
    "build a random sollution\n",
    "\"\"\"\n",
    "def main():\n",
    "    housetypes = initHouseTypes(20)\n",
    "\n",
    "    # generate hosue parameteres\n",
    "    housetypelist = []\n",
    "    for housetype in housetypes:\n",
    "        n = round(housetype.frequency * SELECTED_HOUSE_COUNT)\n",
    "        housetypelist += [housetype] * n\n",
    "\n",
    "    # houstypelist = shuffle(housetypelist)\n",
    "\n",
    "    # make a map\n",
    "    map1 = Map()\n",
    "\n",
    "    # add houses to map\n",
    "    for i in range(SELECTED_HOUSE_COUNT):\n",
    "\n",
    "        # create other parameters\n",
    "        coordinate = (randint(0, AREA[0]-1), randint(0, AREA[1]-1))\n",
    "        ringsToAdd = randint(1, 12)\n",
    "\n",
    "        # add house\n",
    "        map1.addHouse(housetypelist[i], coordinate, ringsToAdd)\n",
    "\n",
    "    # draw the map\n",
    "    map1.plot()\n",
    "\n",
    "if __name__==\"__main__\":\n",
    "    main()"
   ]
  },
  {
   "cell_type": "markdown",
   "metadata": {
    "slideshow": {
     "slide_type": "slide"
    }
   },
   "source": [
    "## The Next Steps\n",
    "\n",
    "1.    Are co-ordinates within the boundaries?\n",
    "\n",
    "2.    Are the houses overlapping? IsTouching Function\n",
    "\n",
    "3.    Implement random\n",
    "\n",
    "4.    Combine random algorithm with another, such as greedy\n"
   ]
  },
  {
   "cell_type": "markdown",
   "metadata": {
    "collapsed": true,
    "slideshow": {
     "slide_type": "slide"
    }
   },
   "source": [
    "## In Summary\n",
    "\n",
    "- Now you know why these guys are together \n",
    "<img src=\"http://api.ning.com/files/ypNasbNKTXcuX8sAKF1hgl9WMLVs9l5-2yNWO1Zxn9HCXx*fzBEHgVlY0d-d5*HytvlY-z7M10fTXMO0aTAGvRm66N7iOef*/RhinoGrasshopper.jpg\"><img>\n"
   ]
  },
  {
   "cell_type": "markdown",
   "metadata": {
    "slideshow": {
     "slide_type": "fragment"
    }
   },
   "source": [
    "- &    this one...\n",
    "<img src=\"https://upload.wikimedia.org/wikipedia/commons/thumb/d/d5/Snake_icon.svg/830px-Snake_icon.svg.png\"><img>\n"
   ]
  },
  {
   "cell_type": "code",
   "execution_count": 1,
   "metadata": {
    "collapsed": true,
    "slideshow": {
     "slide_type": "skip"
    }
   },
   "outputs": [],
   "source": [
    "## In terminal in the folder (may have to delete reveal.js)\n",
    "# jupyter-nbconvert --to slides Beunhaaas.ipynb --reveal-prefix=reveal.js\n",
    "## Or:\n",
    "# jupyter nbconvert Beunhaaas.ipynb --to slides --post serve "
   ]
  },
  {
   "cell_type": "code",
   "execution_count": null,
   "metadata": {
    "collapsed": true
   },
   "outputs": [],
   "source": []
  }
 ],
 "metadata": {
  "celltoolbar": "Slideshow",
  "kernelspec": {
   "display_name": "Python 3",
   "language": "python",
   "name": "python3"
  },
  "language_info": {
   "codemirror_mode": {
    "name": "ipython",
    "version": 3
   },
   "file_extension": ".py",
   "mimetype": "text/x-python",
   "name": "python",
   "nbconvert_exporter": "python",
   "pygments_lexer": "ipython3",
   "version": "3.6.2"
  }
 },
 "nbformat": 4,
 "nbformat_minor": 2
}
