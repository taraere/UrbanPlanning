{
 "cells": [
  {
<<<<<<< HEAD
   "cell_type": "raw",
   "metadata": {
    "slideshow": {
     "slide_type": "skip"
    }
   },
   "source": [
    "# from notebook.services.config import ConfigManager\n",
=======
   "cell_type": "code",
   "execution_count": 4,
   "metadata": {
    "slideshow": {
     "slide_type": "notes"
    }
   },
   "outputs": [
    {
     "data": {
      "text/plain": [
       "{'height': 600, 'scroll': True, 'width': 1000}"
      ]
     },
     "execution_count": 4,
     "metadata": {},
     "output_type": "execute_result"
    }
   ],
   "source": [
    "from notebook.services.config import ConfigManager\n",
>>>>>>> 1497b12e60cc4eb8241aa5f91612489838e80eac
    "cm = ConfigManager()\n",
    "\n",
    "cm.update('livereveal', {\n",
    "              'width': 1000,\n",
    "              'height': 600,\n",
    "              'scroll': True,\n",
    "})"
   ]
  },
  {
   "cell_type": "markdown",
   "metadata": {
    "slideshow": {
     "slide_type": "slide"
    }
   },
   "source": [
<<<<<<< HEAD
    "<h1> Architects at Amstelhaege</h1>\n",
    "\n",
    "<h2> Applying algorithms to urban planning problems </h2>\n",
    "<h4> By Jos Feenstra, Tara Elsen, and Christian Wewer</h4>"
   ]
  },
  {
   "cell_type": "markdown",
   "metadata": {
    "slideshow": {
     "slide_type": "slide"
    }
   },
   "source": [
    "# Content Layout\n",
    "- Case problem  \n",
    "- Visualisations  \n",
    "- Approach  \n",
    "- Current Code and Data, Structure  "
   ]
  },
  {
   "cell_type": "markdown",
   "metadata": {
    "slideshow": {
     "slide_type": "slide"
    }
   },
   "source": [
    "## The Case Problem\n",
    "\n",
    "* Fill an area of 160m x 180m\n",
    "```\n",
    "    AREA = (160, 180)\n",
    "   ```"
   ]
  },
  {
   "cell_type": "markdown",
   "metadata": {
    "slideshow": {
     "slide_type": "fragment"
    }
   },
   "source": [
    "* Fill a residential area with 20, 40, or 60 houses\n",
    "```\n",
    "    HOUSE_COUNT = [20, 40, 60]\n",
    "   ``` \n"
   ]
  },
  {
   "cell_type": "markdown",
   "metadata": {
    "slideshow": {
     "slide_type": "fragment"
    }
   },
   "source": [
    "* 3 types of houses of varying sizes and pricing/ value\n",
    "\n",
    "--------------------------------------------------\n",
    "NAMES | Family  |  Bungalow   |  Mansion   |\n",
    "------|------------------------------------\n",
    "Site  |  (8, 8) |    (10, 7.5)|  (11, 10.5)|\n",
    "Value |  285000 |    399000   |  610000    |\n"
   ]
  },
  {
   "cell_type": "markdown",
   "metadata": {
    "slideshow": {
     "slide_type": "fragment"
    }
   },
   "source": [
    "* Increase in investment with increased \"personal space\" for homes - adding rings of space to the base perimeter around houses\n",
    "```\n",
    "BASE_RING      = [2,    3,    6,   ]\n",
    "RING_INCREMENT = [0.03, 0.04, 0.06 ]\n",
    "```"
=======
    "<h1> This is: Beunhaas Architects </h1>\n",
    "\n",
    "<ul>\n",
    "<li>Problem</li>\n",
    "<li>Visualisation</li>\n",
    "<li>Approach</li>\n",
    "<li>Code</li>\n",
    "</ul>\n",
    "\n",
    "<center><img src=\"https://images.duckduckgo.com/iu/?u=http%3A%2F%2Fdelismusiccorner.nl%2F1354-large_default%2F123-beun-de-beunhaas.jpg&f=1\"></center>"
>>>>>>> 1497b12e60cc4eb8241aa5f91612489838e80eac
   ]
  },
  {
   "cell_type": "markdown",
   "metadata": {
    "slideshow": {
     "slide_type": "slide"
    }
   },
   "source": [
<<<<<<< HEAD
    "# Visualisations\n",
    "----\n",
    "##### First we approached the problem by using Rhino, used on real-life urban development projects \n",
    "----\n",
    "\n",
    "\n",
    "<center><img src=\"images/1.jpg\"><center>"
=======
    "# The Problem"
>>>>>>> 1497b12e60cc4eb8241aa5f91612489838e80eac
   ]
  },
  {
   "cell_type": "markdown",
   "metadata": {
    "slideshow": {
     "slide_type": "subslide"
    }
   },
   "source": [
<<<<<<< HEAD
    "##### They were constructed to scale and placed on a map of the accurate size\n",
    "\n",
    "----\n",
    "\n",
    "\n",
    "\n",
    "<center><img src=\"images/3.jpg\"></center>"
   ]
  },
  {
   "cell_type": "markdown",
=======
    "# Visualisations\n",
    "\n",
    "<center><img src=\"img/1.jpg\" dim = big><center>"
   ]
  },
  {
   "cell_type": "code",
   "execution_count": null,
>>>>>>> 1497b12e60cc4eb8241aa5f91612489838e80eac
   "metadata": {
    "slideshow": {
     "slide_type": "slide"
    }
   },
<<<<<<< HEAD
   "source": [
    "## Algorithmic Approach\n",
    "\n",
    "- Depth first instead of breadth first\n",
    "\n",
    "- Consider the rings\n",
    "\n",
    "<left><img src=\"images/knip2.png\" size=\"small\"></left>\n",
    "<right><img src=\"images/knip3.png\" size=\"small\"></right>\n"
   ]
  },
  {
   "cell_type": "code",
   "execution_count": null,
   "metadata": {
    "collapsed": true
   },
=======
>>>>>>> 1497b12e60cc4eb8241aa5f91612489838e80eac
   "outputs": [],
   "source": []
  },
  {
   "cell_type": "markdown",
   "metadata": {
    "slideshow": {
<<<<<<< HEAD
     "slide_type": "subslide"
    }
   },
   "source": [
    "- Constructive Algorithm\n",
    "    - The amount of branches is enormous:  \n",
    "\n",
    "\n",
    "$$160 \\times 180 \\times 80 \\times 3 \\approx 7 \\times 10^6$$\n",
    "\n",
    "\n",
    "- Smart pruning using  borders and houses\n",
    "\n",
    "- Backtracking"
   ]
  },
  {
   "cell_type": "code",
   "execution_count": 2,
   "metadata": {
    "collapsed": true,
    "slideshow": {
     "slide_type": "skip"
    }
   },
   "outputs": [],
   "source": [
    "from pylab import * \n",
    "import matplotlib.pyplot as plt\n",
    "from matplotlib.patches import Rectangle as mathplot_rectangle\n",
    "import numpy as np\n",
    "from random import randint, shuffle\n",
    "\n",
    "# constances general\n",
    "AREA = (160, 180)\n",
    "HOUSE_COUNT = [20, 40, 60]\n",
    "\n",
    "# water (ignored for now)\n",
    "WATER_PERCENTAGE = 0.20         # percentage of total area covered by water\n",
    "MAX_BODIES       = 4            # maximum number of bodies\n",
    "MAX_RATIO        = 4            # l/b < x AND  b/l < x\n",
    "\n",
    "# house constances\n",
    "NAME           = [\"Family\",  \"Bungalow\", \"Mansion\"  ]\n",
    "FREQUENCY      = [0.60,      0.25,       0.15       ]\n",
    "VALUE          = [285000,    399000,     610000     ]\n",
    "SITE           = [(8, 8),    (10, 7.5),  (11, 10.5 )]\n",
    "BASE_RING      = [2,         3,          6,         ]\n",
    "RING_INCREMENT = [0.03,      0.04,       0.06       ]\n",
    "COLOUR         = [\"r\",       'g',        'y'        ]\n",
    "\n",
    "################################################################################\n",
    "\"\"\"\n",
    "Housetype Class\n",
    "\"\"\"\n",
    "class HouseType:\n",
    "\n",
    "    def __init__(self, aName, aFrequency, aValue, aSite, aBaseRing, aRingIncrement, MaxRingIt, aColour):\n",
    "\n",
    "        # base values\n",
    "        self.name      = aName\n",
    "        self.frequency = aFrequency\n",
    "        self.value     = aValue\n",
    "        self.site      = aSite\n",
    "        self.baseRing  = aBaseRing\n",
    "        self.ringInc   = aRingIncrement\n",
    "        self.colour    = aColour\n",
    "\n",
    "        # calculated values\n",
    "        self.width     = self.site[0]\n",
    "        self.height    = self.site[1]\n",
    "        self.area      = self.width * self.height\n",
    "        self.landValue = self.value / self.area\n",
    "        self.ringValue = round(self.ringInc * self.value)\n",
    "\n",
    "        # do not calculate rings if the basering is incorrect\n",
    "        if self.baseRing - 1 < 0:\n",
    "            raise print(\"ERROR: Ring Creation Error\")\n",
    "\n",
    "        # instanciate cummulative variables\n",
    "        cumArea        = self.area\n",
    "        cumValue       = self.value\n",
    "        cumLandValue   = self.landValue\n",
    "\n",
    "        # make array of rings and their weighted values\n",
    "        class Ring:\n",
    "            pass\n",
    "        self.ring = list()\n",
    "\n",
    "        # fill ring list with Ring objects\n",
    "        # TODO rewrite so that ringwidth and ring.width is less confusing\n",
    "\n",
    "        for ringWidth in range(self.baseRing, MaxRingIt):\n",
    "\n",
    "            # turn r into Ring object\n",
    "            r = Ring()\n",
    "\n",
    "            # calc land value in € / m2, and calc other attributes\n",
    "            r.ringWidth = ringWidth                  # synoniem\n",
    "            r.x = ringWidth * 2 + self.width\n",
    "            r.y = ringWidth * 2 + self.height\n",
    "            r.area = r.x * r.y - cumArea\n",
    "\n",
    "            # the first ring is part of the house, so it yields no value\n",
    "            r.value = 0\n",
    "            if ringWidth != self.baseRing:\n",
    "                r.value = self.ringValue\n",
    "            r.landValue = round(r.value / r.area, 1)\n",
    "\n",
    "            # increase the cummilative values, and add the current values to r\n",
    "            cumArea += r.area\n",
    "            r.cumArea = cumArea\n",
    "\n",
    "            cumValue += r.value\n",
    "            r.cumValue = cumValue\n",
    "\n",
    "            cumLandValue = round(cumValue / cumArea)\n",
    "            r.cumLandValue = cumLandValue\n",
    "\n",
    "            # add Ring object r to list ring\n",
    "            self.ring.append(r)\n",
    "\n",
    "    def printRingInfo(self):\n",
    "        print()\n",
    "        print(self.name)\n",
    "        printstr = \"| ring: {:2}   x: {:2}   y: {:3}   area: {:5}  landValue: {:5}  cumArea: {:6}  cumValue: {:7}   cumLandValue: {:5} |\"\n",
    "        print((len(printstr) - 4) * \"-\")\n",
    "        for r in self.ring:\n",
    "            print(printstr.format(r.ringWidth, r.x, r.y, r.area, r.landValue, r.cumArea, r.cumValue, r.cumLandValue ))\n",
    "        print((len(printstr) - 4) * \"-\")\n",
    "\n",
    "################################################################################\n",
    "\"\"\"\n",
    "House Class\n",
    "\"\"\"\n",
    "class House:\n",
    "\n",
    "    def __init__(self, aType, aCoord, addRings):\n",
    "        self.type = aType\n",
    "        self.origin = aCoord\n",
    "        self.additionalRings = addRings\n",
    "        self.update()\n",
    "\n",
    "    def update(self):\n",
    "        # calculate additional geometric information, based on init's current value\n",
    "            # EXAMPLE a fam.house with 3 add.rings gives a ringWidth of 5.\n",
    "\n",
    "        # select current ring\n",
    "        self.ring = self.type.ring[self.additionalRings]\n",
    "\n",
    "        # house geometry rep. boundary\n",
    "        self.boundary = Rectangle(self.origin, self.type.width, self.type.height, fc=self.type.colour)\n",
    "\n",
    "        # move houseOrigin diagonal to create ringOrigin\n",
    "        vector = (-1 * self.ring.ringWidth, -1 * self.ring.ringWidth)\n",
    "        ringOrigin = moveCoord(self.origin, vector)\n",
    "\n",
    "        # house ring rep. boundary\n",
    "        self.ringboundary =  Rectangle(ringOrigin, self.ring.x, self.ring.y, fc=self.type.colour, alpha=0.2)\n",
    "\n",
    "        # make some synonimes for lazy use\n",
    "        self.coord = self.origin\n",
    "\n",
    "    def move(self, vector):\n",
    "\n",
    "        # add vector and origin coordinate, and update other values accordingly\n",
    "        self.origin = moveCoord(self.origin, vector)\n",
    "        self.update()\n",
    "\n",
    "    def moveTo(self, newCoord):\n",
    "\n",
    "        # replace origin coordinate, and update other values accordingly\n",
    "        self.origin = newCoord\n",
    "        self.update()\n",
    "\n",
    "###############################################################################\n",
    "\n",
    "\"\"\"\n",
    "square class\n",
    "\"\"\"\n",
    "class Rectangle:\n",
    "\n",
    "    def __init__(self, OriginCoord, width, height, **kwargs):\n",
    "\n",
    "        self.width = width\n",
    "        self.height = height\n",
    "\n",
    "        self.x1 = OriginCoord[0]\n",
    "        self.y1 = OriginCoord[1]\n",
    "        self.coord1 = (self.x1, self.y1)\n",
    "\n",
    "        self.x2 = self.x1 + width\n",
    "        self.y2 = self.y1 + height\n",
    "        self.coord2 = (self.x2, self.y2)\n",
    "\n",
    "        # embed mathplot object in this object\n",
    "        self.mathplot = mathplot_rectangle(self.coord1, width, height, 0, **kwargs)\n",
    "\n",
    "    def printAll(self):\n",
    "        print(\"Rectangle.coord1: {} \\n\"\n",
    "              \"Rectangle.coord2: {} \\n\".format(\n",
    "               self.coord1,\n",
    "               self.coord2)\n",
    "             )\n",
    "\n",
    "    # TODO make method of comparissons:\n",
    "\n",
    "    def isTouching(self, obj2):\n",
    "\n",
    "        # find out if object is coordinate or square\n",
    "        checkCoords = []\n",
    "        if isinstance(obj2, Rectangle):\n",
    "            print(\"its an rectangle\")\n",
    "\n",
    "            [checkCoords.append((x, y)) for x in obj2.coord1 for y in obj2.coord2]\n",
    "            print(checkCoords)\n",
    "\n",
    "        elif isinstance(obj2, tuple):\n",
    "            print(\"its an coord\")\n",
    "            checkCoords.append(obj2)\n",
    "        else:\n",
    "            print(\"ERROR: secondObject is not of valid type\")\n",
    "\n",
    "        for checkCoord in checkCoords:\n",
    "            print(checkCoord)\n",
    "        # return True / False\n",
    "\n",
    "###############################################################################\n",
    "\n",
    "\"\"\"\n",
    "Map class which holds houses and has a method of printing them\n",
    "\n",
    "METHODS AND THEIR USE:\n",
    "self.addHouse(type, coord, rings)\n",
    "self.plot()\n",
    "\"\"\"\n",
    "class Map:\n",
    "\n",
    "    def __init__(self, coord1=(0,0), coord2=AREA):\n",
    "        self.coord1 = coord1\n",
    "        self.coord2 = coord2\n",
    "        self.width  = coord2[0] - coord1[0]\n",
    "        self.height = coord2[1] - coord1[1]\n",
    "\n",
    "        # init houselist\n",
    "        self.house = []\n",
    "\n",
    "        # init a boundary for collision testing\n",
    "        self.boundary = Rectangle(self.coord1, self.width, self.height)\n",
    "\n",
    "\n",
    "    \"\"\"\n",
    "    add a [aType] house to the map at [aCoord], with [addrings] rings\n",
    "    \"\"\"\n",
    "    def addHouse(self, aType, aCoord, addRings):\n",
    "\n",
    "        self.house.append(House(aType, aCoord, addRings))\n",
    "\n",
    "    def removeLastHouse(self):\n",
    "        self.house.pop()\n",
    "\n",
    "    \"\"\"\n",
    "    plot the full map with all houses. This code is hard to understand\n",
    "    without understanding the mathplot.py libaries\n",
    "    \"\"\"\n",
    "    def plot(self):\n",
    "\n",
    "        # init figure and axes\n",
    "        fig = plt.figure()\n",
    "        ax = fig.add_subplot(111, aspect='equal')\n",
    "\n",
    "        # get rectangle information out of houses\n",
    "        houseBound_list = []\n",
    "        ringBound_list  = []\n",
    "        for house in self.house:\n",
    "            ax.add_patch(house.boundary.mathplot)\n",
    "            ax.add_patch(house.ringboundary.mathplot)\n",
    "\n",
    "        # EXAMPLE FOR PROPERTIES\n",
    "        # rect = patches.Rectangle((50,100),40,30,linewidth=1,edgecolor='r',facecolor='none')\n",
    "\n",
    "        # determines how axis are drawn\n",
    "        ax.set_xticks(np.arange(0, self.width, 10))\n",
    "        ax.set_yticks(np.arange(0, self.height, 10))\n",
    "        ax.set_xlim([0, self.width])\n",
    "        ax.set_ylim([0, self.height])\n",
    "\n",
    "        # draw the board\n",
    "        plt.show()\n",
    "\n",
    "\n",
    "###############################################################################\n",
    "\"\"\"\n",
    "This area is for functions with are no part of classes\n",
    "\"\"\"\n",
    "\n",
    "\n",
    "\"\"\"\n",
    "instantiate the 3 housetype objects\n",
    "\"\"\"\n",
    "def initHouseTypes(IterationMax=20):\n",
    "    # determines how many rings will be added and calculated\n",
    "    maximumRingIterations = IterationMax\n",
    "\n",
    "    # make a list of House objects\n",
    "    houseTypeList = list()\n",
    "    for i,s in enumerate(NAME):\n",
    "        houseTypeList.append(\n",
    "            HouseType(NAME[i], FREQUENCY[i], VALUE[i], SITE[i], BASE_RING[i],\n",
    "                RING_INCREMENT[i], maximumRingIterations, COLOUR[i])\n",
    "        )\n",
    "    return houseTypeList\n",
    "\n",
    "\n",
    "\n",
    "\"\"\"\n",
    "add a coordinate and a vector (movement representative) together\n",
    "- make a coordinate class/?????\n",
    "\"\"\"\n",
    "def moveCoord(coordinate, vector):\n",
    "    return tuple(sum(x) for x in zip(coordinate, vector))\n"
   ]
  },
  {
   "cell_type": "code",
   "execution_count": 3,
   "metadata": {
    "slideshow": {
     "slide_type": "slide"
    }
   },
   "outputs": [
    {
     "data": {
      "image/png": "iVBORw0KGgoAAAANSUhEUgAAAO0AAAD8CAYAAACbxyOxAAAABHNCSVQICAgIfAhkiAAAAAlwSFlz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\nojVrGBetWcO4aM0axkVr1jD/D8h5K+6EGp0zAAAAAElFTkSuQmCC\n",
      "text/plain": [
       "<matplotlib.figure.Figure at 0x10fce70b8>"
      ]
     },
     "metadata": {},
     "output_type": "display_data"
    }
   ],
   "source": [
    "SELECTED_HOUSE_COUNT = HOUSE_COUNT[2]\n",
    "\n",
    "\"\"\"\n",
    "build a hardcoded sollution\n",
    "\"\"\"\n",
    "def main():\n",
    "    ht = initHouseTypes(20)\n",
    "\n",
    "    # example house object values\n",
    "    hType = [ht[0], ht[2], ht[0], ht[1], ht[2], ht[0], ht[2], ht[0], ht[1], ht[2]]\n",
    "    coordinate = [(50, 50), (64, 21), (54, 50), (84, 97), (12, 23), (45, 56), (100, 100), (30, 30), (200, 54)]\n",
    "    ringsToAdd = [3, 3, 6, 4, 7, 8, 9, 3, 0, 0]\n",
    "\n",
    "    # make a map\n",
    "    map1 = Map()\n",
    "\n",
    "    # fill the map\n",
    "    for i in range(9):\n",
    "        map1.addHouse(hType[i], coordinate[i], ringsToAdd[i])\n",
    "\n",
    "\n",
    "    # draw the map\n",
    "    map1.plot()\n",
    "\n",
    "if __name__==\"__main__\":\n",
    "    main()\n"
   ]
  },
  {
   "cell_type": "markdown",
   "metadata": {
    "collapsed": true,
    "slideshow": {
     "slide_type": "skip"
    }
   },
   "source": [
    "<img src=\"images/plt1.png\"></img>"
=======
     "slide_type": "slide"
    }
   },
   "source": [
    "## Approach\n",
    "\n",
    "- circles have stuff\n",
    "- here's $\\pi$\n",
    "\n",
    "$$\\pi = \\frac{C}{D}$$"
>>>>>>> 1497b12e60cc4eb8241aa5f91612489838e80eac
   ]
  },
  {
   "cell_type": "code",
<<<<<<< HEAD
   "execution_count": 6,
   "metadata": {
    "slideshow": {
     "slide_type": "slide"
    }
   },
   "outputs": [
    {
     "data": {
      "image/png": "iVBORw0KGgoAAAANSUhEUgAAAO0AAAD8CAYAAACbxyOxAAAABHNCSVQICAgIfAhkiAAAAAlwSFlz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\n",
      "text/plain": [
       "<matplotlib.figure.Figure at 0x113ee32b0>"
      ]
     },
     "metadata": {},
     "output_type": "display_data"
    }
   ],
   "source": [
    "\"\"\"\n",
    "build a random sollution\n",
    "\"\"\"\n",
    "def main():\n",
    "    housetypes = initHouseTypes(20)\n",
    "\n",
    "    # generate hosue parameteres\n",
    "    housetypelist = []\n",
    "    for housetype in housetypes:\n",
    "        n = round(housetype.frequency * SELECTED_HOUSE_COUNT)\n",
    "        housetypelist += [housetype] * n\n",
    "\n",
    "    # houstypelist = shuffle(housetypelist)\n",
    "\n",
    "    # make a map\n",
    "    map1 = Map()\n",
    "\n",
    "    # add houses to map\n",
    "    for i in range(SELECTED_HOUSE_COUNT):\n",
    "\n",
    "        # create other parameters\n",
    "        coordinate = (randint(0, AREA[0]-1), randint(0, AREA[1]-1))\n",
    "        ringsToAdd = randint(1, 12)\n",
    "\n",
    "        # add house\n",
    "        map1.addHouse(housetypelist[i], coordinate, ringsToAdd)\n",
    "\n",
    "    # draw the map\n",
    "    map1.plot()\n",
    "\n",
    "if __name__==\"__main__\":\n",
    "    main()"
   ]
  },
  {
   "cell_type": "markdown",
   "metadata": {
    "slideshow": {
     "slide_type": "subslide"
    }
   },
   "source": [
    "<img src=\"images/plt2.png\"></img>"
   ]
  },
  {
   "cell_type": "markdown",
   "metadata": {
    "slideshow": {
     "slide_type": "slide"
    }
   },
   "source": [
    "# Current Code \n",
    "\n"
   ]
  },
  {
   "cell_type": "markdown",
   "metadata": {
=======
   "execution_count": null,
   "metadata": {
    "collapsed": true,
>>>>>>> 1497b12e60cc4eb8241aa5f91612489838e80eac
    "slideshow": {
     "slide_type": "slide"
    }
   },
<<<<<<< HEAD
   "source": [
    "## The Next Steps\n",
    "\n",
    "1.    Are co-ordinates within the boundaries?\n",
    "\n",
    "2.    Are the houses overlapping? IsTouching Function\n",
    "\n",
    "3.    Implement random\n",
    "\n",
    "4.    Combine random algorithm with another, such as greedy\n"
=======
   "outputs": [],
   "source": [
    "from pylab import * "
>>>>>>> 1497b12e60cc4eb8241aa5f91612489838e80eac
   ]
  },
  {
   "cell_type": "markdown",
   "metadata": {
    "collapsed": true,
    "slideshow": {
     "slide_type": "slide"
    }
   },
   "source": [
    "## In Summary\n",
    "\n",
<<<<<<< HEAD
    "- Now you know why these guys are together \n",
    "<img src=\"http://api.ning.com/files/ypNasbNKTXcuX8sAKF1hgl9WMLVs9l5-2yNWO1Zxn9HCXx*fzBEHgVlY0d-d5*HytvlY-z7M10fTXMO0aTAGvRm66N7iOef*/RhinoGrasshopper.jpg\"><img>\n"
   ]
  },
  {
   "cell_type": "markdown",
   "metadata": {
    "slideshow": {
     "slide_type": "subslide"
    }
   },
   "source": [
    "- &    this one...\n",
    "<img src=\"https://upload.wikimedia.org/wikipedia/commons/thumb/d/d5/Snake_icon.svg/830px-Snake_icon.svg.png\"><img>\n"
=======
    "- Rhino\n",
    "- Grasshopper\n",
    "- Python"
>>>>>>> 1497b12e60cc4eb8241aa5f91612489838e80eac
   ]
  },
  {
   "cell_type": "code",
   "execution_count": 5,
   "metadata": {
    "collapsed": true,
    "slideshow": {
     "slide_type": "skip"
    }
   },
   "outputs": [],
   "source": [
<<<<<<< HEAD
    "## In terminal in the folder (may have to delete reveal.js)\n",
    "# jupyter-nbconvert --to slides Beunhaaas.ipynb --reveal-prefix=reveal.js\n",
    "## Or:\n",
    "# jupyter nbconvert Beunhaaas.ipynb --to slides --post serve "
=======
    "# jupyter-nbconvert --to slides Beunhaaas.ipynb --reveal-prefix=reveal.js"
>>>>>>> 1497b12e60cc4eb8241aa5f91612489838e80eac
   ]
  }
 ],
 "metadata": {
  "celltoolbar": "Slideshow",
  "kernelspec": {
   "display_name": "Python 3",
   "language": "python",
   "name": "python3"
  },
  "language_info": {
   "codemirror_mode": {
    "name": "ipython",
    "version": 3
   },
   "file_extension": ".py",
   "mimetype": "text/x-python",
   "name": "python",
   "nbconvert_exporter": "python",
   "pygments_lexer": "ipython3",
   "version": "3.6.2"
  }
 },
 "nbformat": 4,
 "nbformat_minor": 2
}
